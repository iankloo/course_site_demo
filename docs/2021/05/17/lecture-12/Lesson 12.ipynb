{
 "cells": [
  {
   "cell_type": "markdown",
   "metadata": {},
   "source": [
    "# Lesson 12 Exercise"
   ]
  },
  {
   "cell_type": "code",
   "execution_count": 3,
   "metadata": {},
   "outputs": [],
   "source": [
    "library(ggplot2)\n",
    "library(car)"
   ]
  },
  {
   "cell_type": "markdown",
   "metadata": {},
   "source": [
    "We're going to work with some data included in R on diamonds.  Let's explore it a bit:"
   ]
  },
  {
   "cell_type": "code",
   "execution_count": 5,
   "metadata": {},
   "outputs": [
    {
     "data": {
      "text/html": [
       "<table>\n",
       "<caption>A tibble: 10 × 10</caption>\n",
       "<thead>\n",
       "\t<tr><th scope=col>carat</th><th scope=col>cut</th><th scope=col>color</th><th scope=col>clarity</th><th scope=col>depth</th><th scope=col>table</th><th scope=col>price</th><th scope=col>x</th><th scope=col>y</th><th scope=col>z</th></tr>\n",
       "\t<tr><th scope=col>&lt;dbl&gt;</th><th scope=col>&lt;ord&gt;</th><th scope=col>&lt;ord&gt;</th><th scope=col>&lt;ord&gt;</th><th scope=col>&lt;dbl&gt;</th><th scope=col>&lt;dbl&gt;</th><th scope=col>&lt;int&gt;</th><th scope=col>&lt;dbl&gt;</th><th scope=col>&lt;dbl&gt;</th><th scope=col>&lt;dbl&gt;</th></tr>\n",
       "</thead>\n",
       "<tbody>\n",
       "\t<tr><td>0.23</td><td>Ideal    </td><td>E</td><td>SI2 </td><td>61.5</td><td>55</td><td>326</td><td>3.95</td><td>3.98</td><td>2.43</td></tr>\n",
       "\t<tr><td>0.21</td><td>Premium  </td><td>E</td><td>SI1 </td><td>59.8</td><td>61</td><td>326</td><td>3.89</td><td>3.84</td><td>2.31</td></tr>\n",
       "\t<tr><td>0.23</td><td>Good     </td><td>E</td><td>VS1 </td><td>56.9</td><td>65</td><td>327</td><td>4.05</td><td>4.07</td><td>2.31</td></tr>\n",
       "\t<tr><td>0.29</td><td>Premium  </td><td>I</td><td>VS2 </td><td>62.4</td><td>58</td><td>334</td><td>4.20</td><td>4.23</td><td>2.63</td></tr>\n",
       "\t<tr><td>0.31</td><td>Good     </td><td>J</td><td>SI2 </td><td>63.3</td><td>58</td><td>335</td><td>4.34</td><td>4.35</td><td>2.75</td></tr>\n",
       "\t<tr><td>0.24</td><td>Very Good</td><td>J</td><td>VVS2</td><td>62.8</td><td>57</td><td>336</td><td>3.94</td><td>3.96</td><td>2.48</td></tr>\n",
       "\t<tr><td>0.24</td><td>Very Good</td><td>I</td><td>VVS1</td><td>62.3</td><td>57</td><td>336</td><td>3.95</td><td>3.98</td><td>2.47</td></tr>\n",
       "\t<tr><td>0.26</td><td>Very Good</td><td>H</td><td>SI1 </td><td>61.9</td><td>55</td><td>337</td><td>4.07</td><td>4.11</td><td>2.53</td></tr>\n",
       "\t<tr><td>0.22</td><td>Fair     </td><td>E</td><td>VS2 </td><td>65.1</td><td>61</td><td>337</td><td>3.87</td><td>3.78</td><td>2.49</td></tr>\n",
       "\t<tr><td>0.23</td><td>Very Good</td><td>H</td><td>VS1 </td><td>59.4</td><td>61</td><td>338</td><td>4.00</td><td>4.05</td><td>2.39</td></tr>\n",
       "</tbody>\n",
       "</table>\n"
      ],
      "text/latex": [
       "A tibble: 10 × 10\n",
       "\\begin{tabular}{llllllllll}\n",
       " carat & cut & color & clarity & depth & table & price & x & y & z\\\\\n",
       " <dbl> & <ord> & <ord> & <ord> & <dbl> & <dbl> & <int> & <dbl> & <dbl> & <dbl>\\\\\n",
       "\\hline\n",
       "\t 0.23 & Ideal     & E & SI2  & 61.5 & 55 & 326 & 3.95 & 3.98 & 2.43\\\\\n",
       "\t 0.21 & Premium   & E & SI1  & 59.8 & 61 & 326 & 3.89 & 3.84 & 2.31\\\\\n",
       "\t 0.23 & Good      & E & VS1  & 56.9 & 65 & 327 & 4.05 & 4.07 & 2.31\\\\\n",
       "\t 0.29 & Premium   & I & VS2  & 62.4 & 58 & 334 & 4.20 & 4.23 & 2.63\\\\\n",
       "\t 0.31 & Good      & J & SI2  & 63.3 & 58 & 335 & 4.34 & 4.35 & 2.75\\\\\n",
       "\t 0.24 & Very Good & J & VVS2 & 62.8 & 57 & 336 & 3.94 & 3.96 & 2.48\\\\\n",
       "\t 0.24 & Very Good & I & VVS1 & 62.3 & 57 & 336 & 3.95 & 3.98 & 2.47\\\\\n",
       "\t 0.26 & Very Good & H & SI1  & 61.9 & 55 & 337 & 4.07 & 4.11 & 2.53\\\\\n",
       "\t 0.22 & Fair      & E & VS2  & 65.1 & 61 & 337 & 3.87 & 3.78 & 2.49\\\\\n",
       "\t 0.23 & Very Good & H & VS1  & 59.4 & 61 & 338 & 4.00 & 4.05 & 2.39\\\\\n",
       "\\end{tabular}\n"
      ],
      "text/markdown": [
       "\n",
       "A tibble: 10 × 10\n",
       "\n",
       "| carat &lt;dbl&gt; | cut &lt;ord&gt; | color &lt;ord&gt; | clarity &lt;ord&gt; | depth &lt;dbl&gt; | table &lt;dbl&gt; | price &lt;int&gt; | x &lt;dbl&gt; | y &lt;dbl&gt; | z &lt;dbl&gt; |\n",
       "|---|---|---|---|---|---|---|---|---|---|\n",
       "| 0.23 | Ideal     | E | SI2  | 61.5 | 55 | 326 | 3.95 | 3.98 | 2.43 |\n",
       "| 0.21 | Premium   | E | SI1  | 59.8 | 61 | 326 | 3.89 | 3.84 | 2.31 |\n",
       "| 0.23 | Good      | E | VS1  | 56.9 | 65 | 327 | 4.05 | 4.07 | 2.31 |\n",
       "| 0.29 | Premium   | I | VS2  | 62.4 | 58 | 334 | 4.20 | 4.23 | 2.63 |\n",
       "| 0.31 | Good      | J | SI2  | 63.3 | 58 | 335 | 4.34 | 4.35 | 2.75 |\n",
       "| 0.24 | Very Good | J | VVS2 | 62.8 | 57 | 336 | 3.94 | 3.96 | 2.48 |\n",
       "| 0.24 | Very Good | I | VVS1 | 62.3 | 57 | 336 | 3.95 | 3.98 | 2.47 |\n",
       "| 0.26 | Very Good | H | SI1  | 61.9 | 55 | 337 | 4.07 | 4.11 | 2.53 |\n",
       "| 0.22 | Fair      | E | VS2  | 65.1 | 61 | 337 | 3.87 | 3.78 | 2.49 |\n",
       "| 0.23 | Very Good | H | VS1  | 59.4 | 61 | 338 | 4.00 | 4.05 | 2.39 |\n",
       "\n"
      ],
      "text/plain": [
       "   carat cut       color clarity depth table price x    y    z   \n",
       "1  0.23  Ideal     E     SI2     61.5  55    326   3.95 3.98 2.43\n",
       "2  0.21  Premium   E     SI1     59.8  61    326   3.89 3.84 2.31\n",
       "3  0.23  Good      E     VS1     56.9  65    327   4.05 4.07 2.31\n",
       "4  0.29  Premium   I     VS2     62.4  58    334   4.20 4.23 2.63\n",
       "5  0.31  Good      J     SI2     63.3  58    335   4.34 4.35 2.75\n",
       "6  0.24  Very Good J     VVS2    62.8  57    336   3.94 3.96 2.48\n",
       "7  0.24  Very Good I     VVS1    62.3  57    336   3.95 3.98 2.47\n",
       "8  0.26  Very Good H     SI1     61.9  55    337   4.07 4.11 2.53\n",
       "9  0.22  Fair      E     VS2     65.1  61    337   3.87 3.78 2.49\n",
       "10 0.23  Very Good H     VS1     59.4  61    338   4.00 4.05 2.39"
      ]
     },
     "metadata": {},
     "output_type": "display_data"
    }
   ],
   "source": [
    "data(diamonds)\n",
    "\n",
    "df <- diamonds\n",
    "\n",
    "df[1:10, ]"
   ]
  },
  {
   "cell_type": "markdown",
   "metadata": {},
   "source": [
    "We've all probably heard about \"carats\" so let's see if it is associated with cost:"
   ]
  },
  {
   "cell_type": "code",
   "execution_count": 7,
   "metadata": {},
   "outputs": [
    {
     "data": {
      "text/plain": [
       "\n",
       "Call:\n",
       "lm(formula = price ~ carat, data = df)\n",
       "\n",
       "Residuals:\n",
       "     Min       1Q   Median       3Q      Max \n",
       "-18585.3   -804.8    -18.9    537.4  12731.7 \n",
       "\n",
       "Coefficients:\n",
       "            Estimate Std. Error t value Pr(>|t|)    \n",
       "(Intercept) -2256.36      13.06  -172.8   <2e-16 ***\n",
       "carat        7756.43      14.07   551.4   <2e-16 ***\n",
       "---\n",
       "Signif. codes:  0 ‘***’ 0.001 ‘**’ 0.01 ‘*’ 0.05 ‘.’ 0.1 ‘ ’ 1\n",
       "\n",
       "Residual standard error: 1549 on 53938 degrees of freedom\n",
       "Multiple R-squared:  0.8493,\tAdjusted R-squared:  0.8493 \n",
       "F-statistic: 3.041e+05 on 1 and 53938 DF,  p-value: < 2.2e-16\n"
      ]
     },
     "metadata": {},
     "output_type": "display_data"
    }
   ],
   "source": [
    "mod <- lm(price ~ carat, df)\n",
    "summary(mod)"
   ]
  },
  {
   "cell_type": "markdown",
   "metadata": {},
   "source": [
    "Seems like carats have a big effect, but we should check the units:"
   ]
  },
  {
   "cell_type": "code",
   "execution_count": 8,
   "metadata": {},
   "outputs": [
    {
     "data": {
      "text/plain": [
       "   Min. 1st Qu.  Median    Mean 3rd Qu.    Max. \n",
       " 0.2000  0.4000  0.7000  0.7979  1.0400  5.0100 "
      ]
     },
     "metadata": {},
     "output_type": "display_data"
    }
   ],
   "source": [
    "summary(df$carat)"
   ]
  },
  {
   "cell_type": "markdown",
   "metadata": {},
   "source": [
    "It looks like carats range from .2 to 5.01.  We should probably talk about .1 unit changes instead of 1 unit changes since a 1 carat jump seems like a lot:\n",
    "\n",
    "For a .1 carat increase, we expect the price to increase by $775.64"
   ]
  },
  {
   "cell_type": "markdown",
   "metadata": {},
   "source": [
    "Let's add another term to the model - how about clarity:"
   ]
  },
  {
   "cell_type": "code",
   "execution_count": 12,
   "metadata": {},
   "outputs": [
    {
     "data": {
      "text/plain": [
       "\n",
       "Call:\n",
       "lm(formula = price ~ carat + clarity, data = df)\n",
       "\n",
       "Residuals:\n",
       "     Min       1Q   Median       3Q      Max \n",
       "-17355.1   -639.9   -110.6    480.4  11162.8 \n",
       "\n",
       "Coefficients:\n",
       "            Estimate Std. Error t value Pr(>|t|)    \n",
       "(Intercept) -6911.57      50.22 -137.61   <2e-16 ***\n",
       "carat        8440.06      12.65  667.13   <2e-16 ***\n",
       "claritySI2   2879.18      49.47   58.20   <2e-16 ***\n",
       "claritySI1   3729.45      49.16   75.86   <2e-16 ***\n",
       "clarityVS2   4388.90      49.38   88.88   <2e-16 ***\n",
       "clarityVS1   4613.76      50.13   92.03   <2e-16 ***\n",
       "clarityVVS2  5163.32      51.62  100.02   <2e-16 ***\n",
       "clarityVVS1  5186.62      53.05   97.77   <2e-16 ***\n",
       "clarityIF    5513.14      57.37   96.11   <2e-16 ***\n",
       "---\n",
       "Signif. codes:  0 ‘***’ 0.001 ‘**’ 0.01 ‘*’ 0.05 ‘.’ 0.1 ‘ ’ 1\n",
       "\n",
       "Residual standard error: 1294 on 53931 degrees of freedom\n",
       "Multiple R-squared:  0.8949,\tAdjusted R-squared:  0.8948 \n",
       "F-statistic: 5.737e+04 on 8 and 53931 DF,  p-value: < 2.2e-16\n"
      ]
     },
     "metadata": {},
     "output_type": "display_data"
    }
   ],
   "source": [
    "df$clarity <- factor(df$clarity, ordered = FALSE)\n",
    "\n",
    "mod <- lm(price ~ carat + clarity, df)\n",
    "summary(mod)"
   ]
  },
  {
   "cell_type": "code",
   "execution_count": 11,
   "metadata": {},
   "outputs": [
    {
     "data": {
      "text/html": [
       "<style>\n",
       ".dl-inline {width: auto; margin:0; padding: 0}\n",
       ".dl-inline>dt, .dl-inline>dd {float: none; width: auto; display: inline-block}\n",
       ".dl-inline>dt::after {content: \":\\0020\"; padding-right: .5ex}\n",
       ".dl-inline>dt:not(:first-of-type) {padding-left: .5ex}\n",
       "</style><dl class=dl-inline><dt>I1</dt><dd>741</dd><dt>SI2</dt><dd>9194</dd><dt>SI1</dt><dd>13065</dd><dt>VS2</dt><dd>12258</dd><dt>VS1</dt><dd>8171</dd><dt>VVS2</dt><dd>5066</dd><dt>VVS1</dt><dd>3655</dd><dt>IF</dt><dd>1790</dd></dl>\n"
      ],
      "text/latex": [
       "\\begin{description*}\n",
       "\\item[I1] 741\n",
       "\\item[SI2] 9194\n",
       "\\item[SI1] 13065\n",
       "\\item[VS2] 12258\n",
       "\\item[VS1] 8171\n",
       "\\item[VVS2] 5066\n",
       "\\item[VVS1] 3655\n",
       "\\item[IF] 1790\n",
       "\\end{description*}\n"
      ],
      "text/markdown": [
       "I1\n",
       ":   741SI2\n",
       ":   9194SI1\n",
       ":   13065VS2\n",
       ":   12258VS1\n",
       ":   8171VVS2\n",
       ":   5066VVS1\n",
       ":   3655IF\n",
       ":   1790\n",
       "\n"
      ],
      "text/plain": [
       "   I1   SI2   SI1   VS2   VS1  VVS2  VVS1    IF \n",
       "  741  9194 13065 12258  8171  5066  3655  1790 "
      ]
     },
     "metadata": {},
     "output_type": "display_data"
    }
   ],
   "source": [
    "summary(df$clarity)"
   ]
  },
  {
   "cell_type": "markdown",
   "metadata": {},
   "source": [
    "There appear to be 8 levels of clarity - this is a categorical variable."
   ]
  },
  {
   "cell_type": "code",
   "execution_count": null,
   "metadata": {
    "scrolled": false
   },
   "outputs": [],
   "source": []
  },
  {
   "cell_type": "markdown",
   "metadata": {},
   "source": [
    "Interpret the value of clarityVS1:\n",
    "\n",
    "Being in clarity category VS1 is associated with a $4,613.76 increase in diamond price when compared to category I1. "
   ]
  },
  {
   "cell_type": "markdown",
   "metadata": {},
   "source": [
    "Now let's consider what to do when all categories are not \"significant\":"
   ]
  },
  {
   "cell_type": "code",
   "execution_count": 13,
   "metadata": {},
   "outputs": [
    {
     "data": {
      "text/plain": [
       "\n",
       "Call:\n",
       "lm(formula = price ~ clarity + color, data = df)\n",
       "\n",
       "Residuals:\n",
       "   Min     1Q Median     3Q    Max \n",
       " -6046  -2469  -1308   1164  16858 \n",
       "\n",
       "Coefficients:\n",
       "             Estimate Std. Error t value Pr(>|t|)    \n",
       "(Intercept)  2853.080    149.980  19.023  < 2e-16 ***\n",
       "claritySI2   1341.922    147.882   9.074  < 2e-16 ***\n",
       "claritySI1    264.764    146.258   1.810  0.07026 .  \n",
       "clarityVS2    217.599    146.516   1.485  0.13751    \n",
       "clarityVS1     -9.579    148.525  -0.064  0.94858    \n",
       "clarityVVS2  -393.844    152.377  -2.585  0.00975 ** \n",
       "clarityVVS1 -1243.262    155.998  -7.970 1.62e-15 ***\n",
       "clarityIF   -1020.983    169.235  -6.033 1.62e-09 ***\n",
       "colorE          9.419     61.245   0.154  0.87777    \n",
       "colorF        714.648     61.726  11.578  < 2e-16 ***\n",
       "colorG       1094.251     60.167  18.187  < 2e-16 ***\n",
       "colorH       1419.952     63.521  22.354  < 2e-16 ***\n",
       "colorI       2033.169     70.684  28.764  < 2e-16 ***\n",
       "colorJ       2185.993     86.997  25.127  < 2e-16 ***\n",
       "---\n",
       "Signif. codes:  0 ‘***’ 0.001 ‘**’ 0.01 ‘*’ 0.05 ‘.’ 0.1 ‘ ’ 1\n",
       "\n",
       "Residual standard error: 3870 on 53926 degrees of freedom\n",
       "Multiple R-squared:  0.05937,\tAdjusted R-squared:  0.05915 \n",
       "F-statistic: 261.8 on 13 and 53926 DF,  p-value: < 2.2e-16\n"
      ]
     },
     "metadata": {},
     "output_type": "display_data"
    }
   ],
   "source": [
    "df$color <- factor(df$color, ordered = FALSE)\n",
    "\n",
    "mod <- lm(price ~ clarity + color, df)\n",
    "summary(mod)"
   ]
  },
  {
   "cell_type": "code",
   "execution_count": 14,
   "metadata": {},
   "outputs": [
    {
     "data": {
      "text/html": [
       "<style>\n",
       ".dl-inline {width: auto; margin:0; padding: 0}\n",
       ".dl-inline>dt, .dl-inline>dd {float: none; width: auto; display: inline-block}\n",
       ".dl-inline>dt::after {content: \":\\0020\"; padding-right: .5ex}\n",
       ".dl-inline>dt:not(:first-of-type) {padding-left: .5ex}\n",
       "</style><dl class=dl-inline><dt>D</dt><dd>6775</dd><dt>E</dt><dd>9797</dd><dt>F</dt><dd>9542</dd><dt>G</dt><dd>11292</dd><dt>H</dt><dd>8304</dd><dt>I</dt><dd>5422</dd><dt>J</dt><dd>2808</dd></dl>\n"
      ],
      "text/latex": [
       "\\begin{description*}\n",
       "\\item[D] 6775\n",
       "\\item[E] 9797\n",
       "\\item[F] 9542\n",
       "\\item[G] 11292\n",
       "\\item[H] 8304\n",
       "\\item[I] 5422\n",
       "\\item[J] 2808\n",
       "\\end{description*}\n"
      ],
      "text/markdown": [
       "D\n",
       ":   6775E\n",
       ":   9797F\n",
       ":   9542G\n",
       ":   11292H\n",
       ":   8304I\n",
       ":   5422J\n",
       ":   2808\n",
       "\n"
      ],
      "text/plain": [
       "    D     E     F     G     H     I     J \n",
       " 6775  9797  9542 11292  8304  5422  2808 "
      ]
     },
     "metadata": {},
     "output_type": "display_data"
    }
   ],
   "source": [
    "summary(df$color)"
   ]
  },
  {
   "cell_type": "markdown",
   "metadata": {},
   "source": [
    "Now we can see that some colors are significant, but E is not.  That means that color E is not sigificantly different than color D (the reference class).  But, we can see that the other color levels are significantly different.  \n",
    "\n",
    "In practice, we have justification to leave this variable in the model."
   ]
  }
 ],
 "metadata": {
  "kernelspec": {
   "display_name": "R",
   "language": "R",
   "name": "ir"
  },
  "language_info": {
   "codemirror_mode": "r",
   "file_extension": ".r",
   "mimetype": "text/x-r-source",
   "name": "R",
   "pygments_lexer": "r",
   "version": "3.6.2"
  }
 },
 "nbformat": 4,
 "nbformat_minor": 4
}
